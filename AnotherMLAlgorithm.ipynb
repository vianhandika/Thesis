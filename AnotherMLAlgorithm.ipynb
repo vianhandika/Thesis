{
  "nbformat": 4,
  "nbformat_minor": 0,
  "metadata": {
    "colab": {
      "provenance": [],
      "toc_visible": true
    },
    "kernelspec": {
      "name": "python3",
      "display_name": "Python 3"
    },
    "language_info": {
      "name": "python"
    }
  },
  "cells": [
    {
      "cell_type": "code",
      "execution_count": null,
      "metadata": {
        "colab": {
          "base_uri": "https://localhost:8080/"
        },
        "id": "BqeVYDPHmUyy",
        "outputId": "83c0b826-ab59-4be6-823e-d93f6c2fab02"
      },
      "outputs": [
        {
          "output_type": "stream",
          "name": "stdout",
          "text": [
            "Mounted at /content/drive\n"
          ]
        }
      ],
      "source": [
        "from google.colab import drive\n",
        "drive.mount('/content/drive')"
      ]
    },
    {
      "cell_type": "code",
      "source": [
        "cd \"/content/drive/MyDrive/Thesis/NIDS_MODEL/vians_model\""
      ],
      "metadata": {
        "colab": {
          "base_uri": "https://localhost:8080/"
        },
        "id": "f6RkVdykmcfG",
        "outputId": "6055dbfa-6305-4c93-ef1a-c513c7881e28"
      },
      "execution_count": null,
      "outputs": [
        {
          "output_type": "stream",
          "name": "stdout",
          "text": [
            "/content/drive/MyDrive/Thesis/NIDS_MODEL/vians_model\n"
          ]
        }
      ]
    },
    {
      "cell_type": "code",
      "source": [
        "import os\n",
        "import numpy as np\n",
        "import pandas as pd\n",
        "import seaborn as sns\n",
        "import matplotlib.pyplot as plt\n"
      ],
      "metadata": {
        "id": "amGonMTKmmgE"
      },
      "execution_count": null,
      "outputs": []
    },
    {
      "cell_type": "code",
      "source": [
        "import itertools\n",
        "from sklearn.metrics import confusion_matrix\n",
        "\n",
        "def plot_confusion_matrix(cm,\n",
        "                          target_names,\n",
        "                          title='Confusion matrix',\n",
        "                          cmap=None,\n",
        "                          normalize=True):\n",
        "  \n",
        "    accuracy = np.trace(cm) / np.sum(cm).astype('float')\n",
        "    misclass = 1 - accuracy\n",
        "\n",
        "    if cmap is None:\n",
        "        cmap = plt.get_cmap('Blues')\n",
        "\n",
        "    plt.figure(figsize=(8*int(np.sqrt(len(target_names))), 6*int(np.sqrt(len(target_names)))))\n",
        "    plt.imshow(cm, interpolation='nearest', cmap=cmap)\n",
        "    plt.rc('font', size=16)\n",
        "    plt.title(title)\n",
        "    plt.colorbar()\n",
        "\n",
        "    if target_names is not None:\n",
        "        tick_marks = np.arange(len(target_names))\n",
        "        plt.xticks(tick_marks, target_names, rotation=-90)\n",
        "        plt.yticks(tick_marks, target_names)\n",
        "\n",
        "    if normalize:\n",
        "        cm = cm.astype('float') / cm.sum(axis=1)[:, np.newaxis]\n",
        "\n",
        "\n",
        "    thresh = cm.max() / 1.5 if normalize else cm.max() / 2\n",
        "    for i, j in itertools.product(range(cm.shape[0]), range(cm.shape[1])):\n",
        "        if normalize:\n",
        "            plt.text(j, i, \"{:0.4f}\".format(cm[i, j]),\n",
        "                     horizontalalignment=\"center\",\n",
        "                     color=\"white\" if cm[i, j] > thresh else \"black\")\n",
        "        else:\n",
        "            plt.text(j, i, \"{:,}\".format(cm[i, j]),\n",
        "                     horizontalalignment=\"center\",\n",
        "                     color=\"white\" if cm[i, j] > thresh else \"black\")\n",
        "\n",
        "\n",
        "    plt.tight_layout()\n",
        "    plt.ylabel('True label')\n",
        "    plt.xlabel('Predicted label\\naccuracy={:0.4f}; misclass={:0.4f}'.format(accuracy, misclass))\n",
        "    plt.show()\n",
        "\n",
        "from gc import freeze\n"
      ],
      "metadata": {
        "id": "fnAjOtUEnJYQ"
      },
      "execution_count": null,
      "outputs": []
    },
    {
      "cell_type": "code",
      "source": [
        "filename = './data/datasample_multiclass_v4.csv'"
      ],
      "metadata": {
        "id": "oWHASjTanNoV"
      },
      "execution_count": null,
      "outputs": []
    },
    {
      "cell_type": "code",
      "source": [
        "# Load data\n",
        "df = pd.read_csv(filename)\n",
        "\n",
        "# Feature engineering\n",
        "df['Dst Port'].value_counts()[:20]\n",
        "common_port = [8080,80,21,53,443,3389,445,22,500,0]\n",
        "df['Dst Port'] = list(map(lambda x: 10000 if x not in common_port else x, df['Dst Port']))\n",
        "\n",
        "# Label encode\n",
        "from sklearn.preprocessing import LabelEncoder\n",
        "encoder = LabelEncoder() \n",
        "df['Label'] = encoder.fit_transform(df['Label'])\n",
        "\n",
        "# Check nan values\n",
        "df.isna().sum().sum()\n",
        "\n",
        "# Get features\n",
        "X, y = df.drop(['Label'],1), df.Label\n",
        "\n",
        "# Train test validation split\n",
        "from sklearn.model_selection import train_test_split\n",
        "X_train, X_test, y_train, y_test = train_test_split(X, y, test_size=0.2, random_state=42, stratify=y)\n",
        "X_train, X_valid, y_train, y_valid = train_test_split(X_train, y_train, test_size=0.2, random_state=42, stratify=y_train)"
      ],
      "metadata": {
        "colab": {
          "base_uri": "https://localhost:8080/"
        },
        "id": "vIYxqkajnfW_",
        "outputId": "755a99d3-04df-434f-c541-d014e9b17502"
      },
      "execution_count": null,
      "outputs": [
        {
          "output_type": "stream",
          "name": "stderr",
          "text": [
            "/usr/local/lib/python3.7/dist-packages/ipykernel_launcher.py:18: FutureWarning: In a future version of pandas all arguments of DataFrame.drop except for the argument 'labels' will be keyword-only\n"
          ]
        }
      ]
    },
    {
      "cell_type": "markdown",
      "source": [
        "# KNN"
      ],
      "metadata": {
        "id": "pqKoM6_Ro_r0"
      }
    },
    {
      "cell_type": "code",
      "source": [
        "%%time\n",
        "from sklearn.neighbors import KNeighborsClassifier\n",
        "clf = KNeighborsClassifier()\n",
        "clf.fit(X_train, y_train)\n"
      ],
      "metadata": {
        "colab": {
          "base_uri": "https://localhost:8080/"
        },
        "id": "d3tkp4tsnzva",
        "outputId": "89169b9d-5e58-47e9-e829-ec7fc62e9663"
      },
      "execution_count": null,
      "outputs": [
        {
          "output_type": "stream",
          "name": "stdout",
          "text": [
            "CPU times: user 35.8 ms, sys: 926 µs, total: 36.7 ms\n",
            "Wall time: 42 ms\n"
          ]
        },
        {
          "output_type": "execute_result",
          "data": {
            "text/plain": [
              "KNeighborsClassifier()"
            ]
          },
          "metadata": {},
          "execution_count": 12
        }
      ]
    },
    {
      "cell_type": "code",
      "source": [
        "%%time\n",
        "y_pred = clf.predict(X_test)\n",
        "from sklearn.metrics import classification_report\n",
        "target_names = encoder.inverse_transform(np.arange(df['Label'].value_counts().shape[0]))\n",
        "report = classification_report(y_test, y_pred,target_names=target_names)\n",
        "print(report)"
      ],
      "metadata": {
        "colab": {
          "base_uri": "https://localhost:8080/"
        },
        "id": "VHBWq4Wk2179",
        "outputId": "abcee806-ad47-43e5-8ed8-2ee1a860f6c8"
      },
      "execution_count": null,
      "outputs": [
        {
          "output_type": "stream",
          "name": "stdout",
          "text": [
            "                        precision    recall  f1-score   support\n",
            "\n",
            "                Benign       0.97      0.95      0.96      2000\n",
            "                   Bot       1.00      1.00      1.00      2000\n",
            "      Brute Force -Web       0.77      0.84      0.80       122\n",
            "      Brute Force -XSS       0.74      0.70      0.72        46\n",
            "      DDOS attack-HOIC       1.00      1.00      1.00      2000\n",
            "  DDOS attack-LOIC-UDP       0.99      1.00      1.00       346\n",
            "DDoS attacks-LOIC-HTTP       0.97      0.96      0.96      2000\n",
            " DoS attacks-GoldenEye       0.96      0.97      0.96      2000\n",
            "      DoS attacks-Hulk       0.98      0.99      0.98      2000\n",
            " DoS attacks-Slowloris       0.99      0.99      0.99      2000\n",
            "        FTP-BruteForce       1.00      1.00      1.00      2000\n",
            "         SQL Injection       0.78      0.39      0.52        18\n",
            "        SSH-Bruteforce       1.00      1.00      1.00      2000\n",
            "\n",
            "              accuracy                           0.98     18532\n",
            "             macro avg       0.93      0.91      0.92     18532\n",
            "          weighted avg       0.98      0.98      0.98     18532\n",
            "\n",
            "CPU times: user 34.4 s, sys: 2.13 s, total: 36.5 s\n",
            "Wall time: 29 s\n"
          ]
        }
      ]
    },
    {
      "cell_type": "markdown",
      "source": [
        "# SVM"
      ],
      "metadata": {
        "id": "HhD_rujVpE-M"
      }
    },
    {
      "cell_type": "code",
      "source": [
        "%%time\n",
        "from sklearn.svm import SVC\n",
        "clf = SVC()\n",
        "clf.fit(X_train, y_train)\n"
      ],
      "metadata": {
        "colab": {
          "base_uri": "https://localhost:8080/"
        },
        "id": "i7AmNZNqpG-p",
        "outputId": "b5a6129b-f316-4e72-8319-b83a04919f2c"
      },
      "execution_count": null,
      "outputs": [
        {
          "output_type": "stream",
          "name": "stdout",
          "text": [
            "CPU times: user 11min 38s, sys: 1.8 s, total: 11min 40s\n",
            "Wall time: 11min 39s\n"
          ]
        },
        {
          "output_type": "execute_result",
          "data": {
            "text/plain": [
              "SVC()"
            ]
          },
          "metadata": {},
          "execution_count": 14
        }
      ]
    },
    {
      "cell_type": "code",
      "source": [
        "%%time\n",
        "y_pred = clf.predict(X_test)\n",
        "from sklearn.metrics import classification_report\n",
        "target_names = encoder.inverse_transform(np.arange(df['Label'].value_counts().shape[0]))\n",
        "report = classification_report(y_test, y_pred,target_names=target_names)\n",
        "print(report)"
      ],
      "metadata": {
        "colab": {
          "base_uri": "https://localhost:8080/"
        },
        "id": "jXEf-uFG24YT",
        "outputId": "04d48de2-c3d1-4c88-fc01-3eb59413d474"
      },
      "execution_count": null,
      "outputs": [
        {
          "output_type": "stream",
          "name": "stdout",
          "text": [
            "                        precision    recall  f1-score   support\n",
            "\n",
            "                Benign       0.94      0.27      0.42      2000\n",
            "                   Bot       0.00      0.00      0.00      2000\n",
            "      Brute Force -Web       0.63      0.37      0.47       122\n",
            "      Brute Force -XSS       0.00      0.00      0.00        46\n",
            "      DDOS attack-HOIC       0.22      1.00      0.36      2000\n",
            "  DDOS attack-LOIC-UDP       0.99      0.98      0.99       346\n",
            "DDoS attacks-LOIC-HTTP       0.76      0.93      0.84      2000\n",
            " DoS attacks-GoldenEye       0.85      0.63      0.72      2000\n",
            "      DoS attacks-Hulk       0.80      0.00      0.00      2000\n",
            " DoS attacks-Slowloris       0.95      0.93      0.94      2000\n",
            "        FTP-BruteForce       0.99      0.78      0.87      2000\n",
            "         SQL Injection       0.00      0.00      0.00        18\n",
            "        SSH-Bruteforce       0.86      0.36      0.51      2000\n",
            "\n",
            "              accuracy                           0.55     18532\n",
            "             macro avg       0.62      0.48      0.47     18532\n",
            "          weighted avg       0.71      0.55      0.52     18532\n",
            "\n",
            "CPU times: user 2min 23s, sys: 475 ms, total: 2min 24s\n",
            "Wall time: 2min 24s\n"
          ]
        },
        {
          "output_type": "stream",
          "name": "stderr",
          "text": [
            "/usr/local/lib/python3.7/dist-packages/sklearn/metrics/_classification.py:1318: UndefinedMetricWarning: Precision and F-score are ill-defined and being set to 0.0 in labels with no predicted samples. Use `zero_division` parameter to control this behavior.\n",
            "  _warn_prf(average, modifier, msg_start, len(result))\n",
            "/usr/local/lib/python3.7/dist-packages/sklearn/metrics/_classification.py:1318: UndefinedMetricWarning: Precision and F-score are ill-defined and being set to 0.0 in labels with no predicted samples. Use `zero_division` parameter to control this behavior.\n",
            "  _warn_prf(average, modifier, msg_start, len(result))\n",
            "/usr/local/lib/python3.7/dist-packages/sklearn/metrics/_classification.py:1318: UndefinedMetricWarning: Precision and F-score are ill-defined and being set to 0.0 in labels with no predicted samples. Use `zero_division` parameter to control this behavior.\n",
            "  _warn_prf(average, modifier, msg_start, len(result))\n"
          ]
        }
      ]
    },
    {
      "cell_type": "markdown",
      "source": [
        "# MLP"
      ],
      "metadata": {
        "id": "HqYIXjfnslgr"
      }
    },
    {
      "cell_type": "code",
      "source": [
        "%%time\n",
        "from sklearn.neural_network import MLPClassifier\n",
        "clf = MLPClassifier()\n",
        "clf.fit(X_train, y_train)\n"
      ],
      "metadata": {
        "colab": {
          "base_uri": "https://localhost:8080/"
        },
        "id": "2yAiNs7SsoBq",
        "outputId": "99900a14-9cb6-43a1-d565-77350328f657"
      },
      "execution_count": null,
      "outputs": [
        {
          "output_type": "stream",
          "name": "stdout",
          "text": [
            "CPU times: user 1min 1s, sys: 44.9 s, total: 1min 46s\n",
            "Wall time: 57 s\n"
          ]
        },
        {
          "output_type": "execute_result",
          "data": {
            "text/plain": [
              "MLPClassifier()"
            ]
          },
          "metadata": {},
          "execution_count": 16
        }
      ]
    },
    {
      "cell_type": "code",
      "source": [
        "%%time\n",
        "y_pred = clf.predict(X_test)\n",
        "from sklearn.metrics import classification_report\n",
        "target_names = encoder.inverse_transform(np.arange(df['Label'].value_counts().shape[0]))\n",
        "report = classification_report(y_test, y_pred,target_names=target_names)\n",
        "print(report)"
      ],
      "metadata": {
        "colab": {
          "base_uri": "https://localhost:8080/"
        },
        "id": "Ltqa-BwS27Cz",
        "outputId": "d81f9d28-fea2-44b5-dd2b-30ba4737332b"
      },
      "execution_count": null,
      "outputs": [
        {
          "output_type": "stream",
          "name": "stdout",
          "text": [
            "                        precision    recall  f1-score   support\n",
            "\n",
            "                Benign       0.56      0.91      0.70      2000\n",
            "                   Bot       0.99      1.00      1.00      2000\n",
            "      Brute Force -Web       0.70      0.57      0.62       122\n",
            "      Brute Force -XSS       0.27      0.54      0.36        46\n",
            "      DDOS attack-HOIC       0.99      1.00      1.00      2000\n",
            "  DDOS attack-LOIC-UDP       1.00      1.00      1.00       346\n",
            "DDoS attacks-LOIC-HTTP       0.98      0.49      0.65      2000\n",
            " DoS attacks-GoldenEye       0.96      0.83      0.89      2000\n",
            "      DoS attacks-Hulk       0.98      0.90      0.94      2000\n",
            " DoS attacks-Slowloris       0.91      0.98      0.94      2000\n",
            "        FTP-BruteForce       1.00      0.99      1.00      2000\n",
            "         SQL Injection       0.83      0.28      0.42        18\n",
            "        SSH-Bruteforce       1.00      1.00      1.00      2000\n",
            "\n",
            "              accuracy                           0.90     18532\n",
            "             macro avg       0.86      0.81      0.81     18532\n",
            "          weighted avg       0.93      0.90      0.90     18532\n",
            "\n",
            "CPU times: user 155 ms, sys: 129 ms, total: 284 ms\n",
            "Wall time: 151 ms\n"
          ]
        }
      ]
    },
    {
      "cell_type": "markdown",
      "source": [
        "# DT"
      ],
      "metadata": {
        "id": "WAXt605h0xV2"
      }
    },
    {
      "cell_type": "code",
      "source": [
        "%%time\n",
        "from sklearn.tree import DecisionTreeClassifier\n",
        "clf = DecisionTreeClassifier()\n",
        "clf.fit(X_train, y_train)\n"
      ],
      "metadata": {
        "colab": {
          "base_uri": "https://localhost:8080/"
        },
        "id": "AMET0wBh0zlw",
        "outputId": "9abeeab2-34e3-47c7-a959-37a0ffad9632"
      },
      "execution_count": null,
      "outputs": [
        {
          "output_type": "stream",
          "name": "stdout",
          "text": [
            "CPU times: user 1.2 s, sys: 11.5 ms, total: 1.21 s\n",
            "Wall time: 1.22 s\n"
          ]
        },
        {
          "output_type": "execute_result",
          "data": {
            "text/plain": [
              "DecisionTreeClassifier()"
            ]
          },
          "metadata": {},
          "execution_count": 18
        }
      ]
    },
    {
      "cell_type": "code",
      "source": [
        "%%time\n",
        "y_pred = clf.predict(X_test)\n",
        "from sklearn.metrics import classification_report\n",
        "target_names = encoder.inverse_transform(np.arange(df['Label'].value_counts().shape[0]))\n",
        "report = classification_report(y_test, y_pred,target_names=target_names)\n",
        "print(report)"
      ],
      "metadata": {
        "colab": {
          "base_uri": "https://localhost:8080/"
        },
        "id": "HYiSCYoG2-Gp",
        "outputId": "b94f1b57-bb46-4357-d9a9-e899ae8b8b5a"
      },
      "execution_count": null,
      "outputs": [
        {
          "output_type": "stream",
          "name": "stdout",
          "text": [
            "                        precision    recall  f1-score   support\n",
            "\n",
            "                Benign       1.00      0.99      1.00      2000\n",
            "                   Bot       1.00      1.00      1.00      2000\n",
            "      Brute Force -Web       0.93      0.94      0.93       122\n",
            "      Brute Force -XSS       0.90      0.98      0.94        46\n",
            "      DDOS attack-HOIC       1.00      1.00      1.00      2000\n",
            "  DDOS attack-LOIC-UDP       1.00      1.00      1.00       346\n",
            "DDoS attacks-LOIC-HTTP       1.00      1.00      1.00      2000\n",
            " DoS attacks-GoldenEye       1.00      1.00      1.00      2000\n",
            "      DoS attacks-Hulk       1.00      1.00      1.00      2000\n",
            " DoS attacks-Slowloris       1.00      1.00      1.00      2000\n",
            "        FTP-BruteForce       1.00      1.00      1.00      2000\n",
            "         SQL Injection       0.75      0.67      0.71        18\n",
            "        SSH-Bruteforce       1.00      1.00      1.00      2000\n",
            "\n",
            "              accuracy                           1.00     18532\n",
            "             macro avg       0.97      0.97      0.97     18532\n",
            "          weighted avg       1.00      1.00      1.00     18532\n",
            "\n",
            "CPU times: user 69.5 ms, sys: 7.87 ms, total: 77.3 ms\n",
            "Wall time: 75.9 ms\n"
          ]
        }
      ]
    }
  ]
}